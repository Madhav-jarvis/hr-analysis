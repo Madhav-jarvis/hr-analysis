import pandas as pd
import numpy as np
import matplotlib.pyplot as plt
from statsmodels.tsa.statespace.sarimax import SARIMAX
from statsmodels.graphics.tsaplots import plot_acf, plot_pacf
from sklearn.metrics import mean_squared_error
from math import sqrt
import warnings
warnings.filterwarnings("ignore")

from google.colab import drive
drive.mount('/content/drive')

    # Assuming your CSV is named 'covid_19_clean_complete.csv' and is in your Colab environment
    # You might need to upload it or mount Google Drive
df = pd.read_csv('/content/drive/MyDrive/covid_19_clean_complete/covid_19_clean_complete.csv', parse_dates=['Date'])

    # Filter for a specific country (e.g., 'US')
    country_df = df[df['Country/Region'] == 'US'].copy()

    # Aggregate confirmed cases by date for the country
    daily_cases = country_df.groupby('Date')['Confirmed'].sum().reset_index()
    daily_cases.set_index('Date', inplace=True)

    # Resample to daily frequency (if there are missing dates) and fill NaNs
    daily_cases = daily_cases.asfreq('D', fill_value=0)

    # Calculate daily new confirmed cases (if 'Confirmed' is cumulative)
    daily_cases['New_Confirmed'] = daily_cases['Confirmed'].diff().fillna(0)
    daily_cases['New_Confirmed'] = daily_cases['New_Confirmed'].apply(lambda x: max(0, x)) # Ensure no negative values

    # Select the series for modeling
    ts = daily_cases['New_Confirmed']

    plt.figure(figsize=(13, 7))
    plt.plot(ts)
    plt.title('Daily New Confirmed COVID-19 Cases (US)')
    plt.xlabel('Date')
    plt.ylabel('New Confirmed Cases')
    plt.grid(True)
    plt.show()

    from statsmodels.tsa.stattools import adfuller

    def adf_test(series):
        result = adfuller(series, autolag='AIC')
        print(f'ADF Statistic: {result[0]}')
        print(f'p-value: {result[1]}')
        print('Critical Values:')
        for key, value in result[4].items():
            print(f'   {key}: {value}')
        if result[1] <= 0.05:
            print("Series is stationary (reject H0)")
        else:
            print("Series is non-stationary (fail to reject H0)")

    print("ADF Test for Original Series:")
    adf_test(ts)

    # If non-stationary, apply differencing
    ts_diff = ts.diff().dropna()
    print("\nADF Test for Differenced Series:")
    adf_test(ts_diff)

    # For non-seasonal components (p, q)
    fig, axes = plt.subplots(1, 2, figsize=(16, 4))
    plot_acf(ts_diff, ax=axes[0], lags=40)
    plot_pacf(ts_diff, ax=axes[1], lags=40)
    plt.suptitle('ACF and PACF of Differenced Series')
    plt.show()

    # For seasonal components (P, Q, S) - assuming weekly seasonality (S=7)
    # Look at lags at multiples of S (e.g., 7, 14, 21)
    fig, axes = plt.subplots(1, 2, figsize=(16, 4))
    plot_acf(ts_diff, ax=axes[0], lags=40) # Look at lag 7, 14, 21 etc.
    plot_pacf(ts_diff, ax=axes[1], lags=40) # Look at lag 7, 14, 21 etc.
    plt.suptitle('ACF and PACF of Differenced Series (for Seasonal)')
    plt.show()

    # Split data into training and testing sets
    train_size = int(len(ts) * 0.8)
    train, test = ts[0:train_size], ts[train_size:]

    # Define SARIMAX model parameters (example values, tune based on EDA)
    # (p, d, q) for non-seasonal, (P, D, Q, S) for seasonal
    order = (1, 1, 1)
    seasonal_order = (1, 1, 1, 7) # S=7 for weekly seasonality

    # Initialize and fit the SARIMAX model
    model = SARIMAX(train, order=order, seasonal_order=seasonal_order,
                    enforce_stationarity=False, enforce_invertibility=False)
    model_fit = model.fit(disp=False)
    print(model_fit.summary())

    # Make predictions
    start_index = len(train)
    end_index = len(ts) - 1
    predictions = model_fit.predict(start=start_index, end=end_index, dynamic=False) # dynamic=False for one-step-ahead forecasts

    plt.figure(figsize=(14, 7))
    plt.plot(train.index, train, label='Training Data')
    plt.plot(test.index, test, label='Actual Cases')
    plt.plot(predictions.index, predictions, label='SARIMAX Predictions', color='red', linestyle='--')
    plt.title('COVID-19 New Confirmed Cases: Actual vs. SARIMAX Forecast')
    plt.xlabel('Date')
    plt.ylabel('New Confirmed Cases')
    plt.legend()
    plt.grid(True)
    plt.show()

    rmse = sqrt(mean_squared_error(test, predictions))
    print(f'Test RMSE: {rmse:.3f}')


    forecast_steps = 30 # Forecast for the next 30 days
    forecast = model_fit.predict(start=len(ts), end=len(ts) + forecast_steps - 1)

    # Create a date range for the forecast
    last_date = ts.index[-1]
    forecast_dates = pd.date_range(start=last_date + pd.Timedelta(days=1), periods=forecast_steps, freq='D')
    forecast_series = pd.Series(forecast, index=forecast_dates)

    plt.figure(figsize=(14, 7))
    plt.plot(ts.index, ts, label='Historical Data')
    plt.plot(forecast_series.index, forecast_series, label='Future Forecast', color='green', linestyle='-.')
    plt.title('COVID-19 New Confirmed Cases: Historical and Future Forecast')
    plt.xlabel('Date')
    plt.ylabel('New Confirmed Cases')
    plt.legend()
    plt.grid(True)
    plt.show()


# Example: Create a dummy exogenous variable (replace with real data)
# This is just for demonstration. You'd load actual data.
exog_data = pd.DataFrame(index=daily_cases.index)
exog_data['mobility_index'] = np.random.rand(len(daily_cases)) * 100 # Dummy data
exog_data['policy_stringency'] = np.random.rand(len(daily_cases)) * 10 # Dummy data

# Align exogenous data with train/test split
train_exog = exog_data.loc[train.index]
test_exog = exog_data.loc[test.index]

# Define the number of forecast steps
forecast_steps = 30

# Create a date range for the forecast
last_date = ts.index[-1]
forecast_dates = pd.date_range(start=last_date + pd.Timedelta(days=1), periods=forecast_steps, freq='D')

# Create dummy future exogenous variables for the forecast period
# This DataFrame should have 'forecast_steps' rows
future_exog = pd.DataFrame(np.random.rand(forecast_steps, exog_data.shape[1]) * 100,
                           index=forecast_dates, columns=exog_data.columns) # Dummy future exog

# Concatenate test_exog and future_exog for forecasting
# The combined exogenous data should cover the period from the start of the test set
# to the end of the forecast period.
combined_exog_forecast = pd.concat([test_exog, future_exog])

# Re-fit the model with exogenous variables
model_exog = SARIMAX(train, exog=train_exog, order=order, seasonal_order=seasonal_order,
                     enforce_stationarity=False, enforce_invertibility=False)
model_exog_fit = model_exog.fit(disp=False)
print(model_exog_fit.summary())

# Make predictions on the test set with exogenous variables
# The start and end indices are relative to the training data
start_index_test = len(train)
end_index_test = len(ts) - 1
predictions_exog = model_exog_fit.predict(start=start_index_test, end=end_index_test, exog=test_exog, dynamic=False)
rmse_exog = sqrt(mean_squared_error(test, predictions_exog))
print(f'Test RMSE with Exog: {rmse_exog:.3f}')

# Forecast future values with future exogenous variables
# The start and end indices are relative to the combined exogenous data used for forecasting.
# The forecast period starts right after the training data ends (len(ts) in the original series),
# which corresponds to the start of the test data (index 0 of test_exog or combined_exog_forecast).
# The forecast itself starts after the test data ends.
start_index_forecast = len(test) # Start of forecast in combined_exog_forecast
end_index_forecast = len(combined_exog_forecast) - 1 # End of forecast in combined_exog_forecast

forecast_exog = model_exog_fit.predict(start=start_index_forecast, end=end_index_forecast, exog=combined_exog_forecast)
forecast_series_exog = pd.Series(forecast_exog, index=forecast_dates)

plt.figure(figsize=(14, 7))
plt.plot(ts.index, ts, label='Historical Data')
plt.plot(forecast_series_exog.index, forecast_series_exog, label='Future Forecast (with Exog)', color='purple', linestyle='-.')
plt.title('COVID-19 New Confirmed Cases: Historical and Future Forecast (with Exog)')
plt.xlabel('Date')
plt.ylabel('New Confirmed Cases')
plt.legend()
plt.grid(True)
plt.show()
